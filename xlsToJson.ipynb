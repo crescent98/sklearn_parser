{
 "cells": [
  {
   "cell_type": "markdown",
   "metadata": {},
   "source": [
    "Bring XL file"
   ]
  },
  {
   "cell_type": "code",
   "execution_count": 4,
   "metadata": {},
   "outputs": [],
   "source": [
    "import xlrd\n",
    "import sys\n",
    "import json\n",
    "# get the xl file\n",
    "wb=xlrd.open_workbook(\"/home/shmoon/algorithm_parameter_parser/xls/algo_info.xls\")\n",
    "s_n=len(wb.sheet_names())"
   ]
  },
  {
   "cell_type": "code",
   "execution_count": 7,
   "metadata": {},
   "outputs": [],
   "source": [
    "for j in range(0,s_n):  \n",
    "    param={}\n",
    "    ws=wb.sheet_by_index(j)\n",
    "    algo_name=wb.sheet_names()[j]\n",
    "    for i in range(4,ws.nrows):\n",
    "        t=ws.row_values(i)[1]\n",
    "        param[t]={}\n",
    "    \n",
    "        r_v=ws.row_values(i)\n",
    "        \n",
    "        #param[t]\n",
    "        temp={}\n",
    "        temp[\"types\"]=type_parse(r_v[2])\n",
    "        temp[\"strings\"]=[]\n",
    "        temp[\"default\"]=[]\n",
    "        temp[\"none\"]=[]\n",
    "        temp[\"widget\"]=[]\n",
    "        temp[\"range=\"]=[]\n",
    "        temp[\"current_value\"]=[]\n",
    "        temp[\"early_stopping\"]=[]\n",
    "        \n",
    "        temp[\"strings\"]=string_parse(r_v[3])\n",
    "        temp[\"default\"].append(default_parse(r_v[4]))\n",
    "        temp[\"none\"].append(r_v[5])\n",
    "        \n",
    "        # widget\n",
    "        if temp['types']==['int'] or temp['types']==['float']:\n",
    "            temp['widget']=['field']\n",
    "        elif temp['types']==['bool']:\n",
    "            temp['widget']=['switch']\n",
    "        \n",
    "       #print(temp)\n",
    "        param[t]=temp\n",
    "    with open('jsonFiles/'+algo_name+'.json','w') as outfile:\n",
    "        json.dump(param,outfile)"
   ]
  },
  {
   "cell_type": "code",
   "execution_count": 6,
   "metadata": {},
   "outputs": [],
   "source": [
    "def type_parse(type_str):\n",
    "    t_list=type_str.split(',')\n",
    "    t_list=[v.replace(\" \",\"\") for v in t_list if v.replace(\" \",\"\")]\n",
    "    return t_list\n",
    "\n",
    "def string_parse(str_str):\n",
    "    if not str_str:\n",
    "        return []\n",
    "    # , 를 통해서 분류\n",
    "    t_list=str_str.split(',')\n",
    "    t_list=[v.replace(\"’\",\"\") for v in t_list if v.replace(\" \",\"\")]\n",
    "    t_list=[v.replace(\"‘\",\"\") for v in t_list]\n",
    "    t_list=[v.replace(\"“\",\"\") for v in t_list]\n",
    "    t_list=[v.replace(\"”\",\"\") for v in t_list]\n",
    "    t_list=[v.replace(\" \",\"\") for v in t_list]\n",
    "    return t_list\n",
    "\n",
    "def default_parse(dft_str):\n",
    "    dft_str=dft_str.replace(\"’\",\"\")\n",
    "    dft_str=dft_str.replace(\"‘\",\"\")\n",
    "    dft_str=dft_str.replace(\"“\",\"\")\n",
    "    dft_str=dft_str.replace(\"”\",\"\")\n",
    "    return dft_str"
   ]
  }
 ],
 "metadata": {
  "kernelspec": {
   "display_name": "Python 3",
   "language": "python",
   "name": "python3"
  },
  "language_info": {
   "codemirror_mode": {
    "name": "ipython",
    "version": 3
   },
   "file_extension": ".py",
   "mimetype": "text/x-python",
   "name": "python",
   "nbconvert_exporter": "python",
   "pygments_lexer": "ipython3",
   "version": "3.6.9"
  }
 },
 "nbformat": 4,
 "nbformat_minor": 4
}
