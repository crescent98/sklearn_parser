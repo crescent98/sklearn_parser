{
 "cells": [
  {
   "cell_type": "code",
   "execution_count": 85,
   "metadata": {},
   "outputs": [],
   "source": [
    "from bs4 import BeautifulSoup\n",
    "\n",
    "with open(\"ex.html\",'r',-1,\"utf-8\") as fp:\n",
    "    soup=BeautifulSoup(fp,'html.parser')\n",
    "    all_divs=soup.find('dl',{'class':'field-list'})"
   ]
  },
  {
   "cell_type": "code",
   "execution_count": 86,
   "metadata": {},
   "outputs": [],
   "source": [
    "tags_all=all_divs.find_all('dt')"
   ]
  },
  {
   "cell_type": "code",
   "execution_count": 87,
   "metadata": {},
   "outputs": [],
   "source": [
    "tags=[]\n",
    "for i in range(0,len(tags_all)):\n",
    "    tags.append(tags_all[i])"
   ]
  },
  {
   "cell_type": "code",
   "execution_count": 88,
   "metadata": {},
   "outputs": [],
   "source": [
    "# getting names\n",
    "tag_count=0\n",
    "names=[]\n",
    "for i in range(1,len(tags)):\n",
    "    try:\n",
    "        names.append(tags[i].find('strong').get_text())\n",
    "        tag_count=tag_count+1\n",
    "    except AttributeError:\n",
    "        break"
   ]
  },
  {
   "cell_type": "code",
   "execution_count": 89,
   "metadata": {},
   "outputs": [],
   "source": [
    "# getting info\n",
    "info=[]\n",
    "for i in range(1,len(tags)):\n",
    "    try:\n",
    "        info.append(tags[i].find('span').get_text())\n",
    "    except AttributeError:\n",
    "        break\n",
    "#<span class=\"classifier\">"
   ]
  },
  {
   "cell_type": "code",
   "execution_count": 91,
   "metadata": {},
   "outputs": [
    {
     "name": "stdout",
     "output_type": "stream",
     "text": [
      "15\n"
     ]
    }
   ],
   "source": [
    "print(tag_count)"
   ]
  },
  {
   "cell_type": "code",
   "execution_count": 92,
   "metadata": {
    "scrolled": true
   },
   "outputs": [],
   "source": [
    "# getting tag default and type\n",
    "tag_dft=[]\n",
    "tag_type=[]\n",
    "\n",
    "for i in range(0,tag_count):\n",
    "    spl=info[i].split('default')\n",
    "    tag_dft.append(spl[1])\n",
    "    tag_type.append(spl[0])"
   ]
  },
  {
   "cell_type": "code",
   "execution_count": 278,
   "metadata": {},
   "outputs": [],
   "source": [
    "# type 형성\n",
    "types=[]\n",
    "\n",
    "# string type \n",
    "strings=[]\n",
    "\n",
    "#\n",
    "\n",
    "for i in range(tag_count):\n",
    "    types.append([])\n",
    "    strings.append([])\n",
    "    \n",
    "    # put strings\n",
    "    b_s=tag_type[i].find('{')\n",
    "    b_e=tag_type[i].find('}')\n",
    "    \n",
    "    if(b_s!=-1):\n",
    "        temp=tag_type[i][b_s+1:b_e]\n",
    "        for j in temp.split(','):\n",
    "            strings[i].append(j)\n",
    "        temp2=tag_type[i][:b_s]+tag_type[i][b_e+1:]\n",
    "        temp2=temp2.replace('or',',').split(',')\n",
    "        types[i]=[v.strip() for v in temp2 if not not v.split()]\n",
    "        types[i].append('string')\n",
    "    else:\n",
    "        temp2=tag_type[i]\n",
    "        temp2=temp2.replace('or',',').split(',')\n",
    "        types[i]=[v.strip()+', ' for v in temp2 if not not v.split()]"
   ]
  },
  {
   "cell_type": "code",
   "execution_count": 276,
   "metadata": {},
   "outputs": [
    {
     "name": "stdout",
     "output_type": "stream",
     "text": [
      "['string ']\n",
      "['bool ']\n",
      "['float ']\n",
      "['float ']\n",
      "['bool ']\n",
      "['float ']\n",
      "['dict ', '‘balanced’ ']\n",
      "['int ', 'RandomState instance ']\n",
      "['string ']\n",
      "['int ']\n",
      "['string ']\n",
      "['int ']\n",
      "['bool ']\n",
      "['int ']\n",
      "['float ']\n"
     ]
    }
   ],
   "source": [
    "for i in types:\n",
    "    print(i)"
   ]
  },
  {
   "cell_type": "code",
   "execution_count": 258,
   "metadata": {},
   "outputs": [],
   "source": [
    "# defaults\n",
    "defaults=[]\n",
    "\n",
    "# nones\n",
    "nones=[]\n",
    "\n",
    "for i in range(tag_count):\n",
    "    defaults.append([])\n",
    "    nones.append([])\n",
    "    \n",
    "    temp=tag_dft[i].split('=')[-1]\n",
    "    if temp=='None':\n",
    "        nones[i].append('True')\n",
    "        defaults[i].append('None')\n",
    "    else:\n",
    "        nones[i].append('False')\n",
    "        defaults[i].append(temp)"
   ]
  },
  {
   "cell_type": "code",
   "execution_count": 256,
   "metadata": {},
   "outputs": [
    {
     "name": "stdout",
     "output_type": "stream",
     "text": [
      "0 th parameter info\n",
      "\n",
      "name:  penalty\n",
      "types:  ['string']\n",
      "strings:  ['‘l1’', ' ‘l2’', ' ‘elasticnet’', ' ‘none’']\n",
      "defaults:  ['’l2’']\n",
      "nones:  [False]\n",
      "\n",
      "\n",
      "1 th parameter info\n",
      "\n",
      "name:  dual\n",
      "types:  ['bool']\n",
      "strings:  []\n",
      "defaults:  ['False']\n",
      "nones:  [False]\n",
      "\n",
      "\n",
      "2 th parameter info\n",
      "\n",
      "name:  tol\n",
      "types:  ['float']\n",
      "strings:  []\n",
      "defaults:  ['1e-4']\n",
      "nones:  [False]\n",
      "\n",
      "\n",
      "3 th parameter info\n",
      "\n",
      "name:  C\n",
      "types:  ['float']\n",
      "strings:  []\n",
      "defaults:  ['1.0']\n",
      "nones:  [False]\n",
      "\n",
      "\n",
      "4 th parameter info\n",
      "\n",
      "name:  fit_intercept\n",
      "types:  ['bool']\n",
      "strings:  []\n",
      "defaults:  ['True']\n",
      "nones:  [False]\n",
      "\n",
      "\n",
      "5 th parameter info\n",
      "\n",
      "name:  intercept_scaling\n",
      "types:  ['float']\n",
      "strings:  []\n",
      "defaults:  ['1']\n",
      "nones:  [False]\n",
      "\n",
      "\n",
      "6 th parameter info\n",
      "\n",
      "name:  class_weight\n",
      "types:  ['dict', '‘balanced’']\n",
      "strings:  []\n",
      "defaults:  ['None']\n",
      "nones:  [True]\n",
      "\n",
      "\n",
      "7 th parameter info\n",
      "\n",
      "name:  random_state\n",
      "types:  ['int', 'RandomState instance']\n",
      "strings:  []\n",
      "defaults:  ['None']\n",
      "nones:  [True]\n",
      "\n",
      "\n",
      "8 th parameter info\n",
      "\n",
      "name:  solver\n",
      "types:  ['string']\n",
      "strings:  ['‘newton-cg’', ' ‘lbfgs’', ' ‘liblinear’', ' ‘sag’', ' ‘saga’']\n",
      "defaults:  ['’lbfgs’']\n",
      "nones:  [False]\n",
      "\n",
      "\n",
      "9 th parameter info\n",
      "\n",
      "name:  max_iter\n",
      "types:  ['int']\n",
      "strings:  []\n",
      "defaults:  ['100']\n",
      "nones:  [False]\n",
      "\n",
      "\n",
      "10 th parameter info\n",
      "\n",
      "name:  multi_class\n",
      "types:  ['string']\n",
      "strings:  ['‘auto’', ' ‘ovr’', ' ‘multinomial’']\n",
      "defaults:  ['’auto’']\n",
      "nones:  [False]\n",
      "\n",
      "\n",
      "11 th parameter info\n",
      "\n",
      "name:  verbose\n",
      "types:  ['int']\n",
      "strings:  []\n",
      "defaults:  ['0']\n",
      "nones:  [False]\n",
      "\n",
      "\n",
      "12 th parameter info\n",
      "\n",
      "name:  warm_start\n",
      "types:  ['bool']\n",
      "strings:  []\n",
      "defaults:  ['False']\n",
      "nones:  [False]\n",
      "\n",
      "\n",
      "13 th parameter info\n",
      "\n",
      "name:  n_jobs\n",
      "types:  ['int']\n",
      "strings:  []\n",
      "defaults:  ['None']\n",
      "nones:  [True]\n",
      "\n",
      "\n",
      "14 th parameter info\n",
      "\n",
      "name:  l1_ratio\n",
      "types:  ['float']\n",
      "strings:  []\n",
      "defaults:  ['None']\n",
      "nones:  [True]\n",
      "\n",
      "\n"
     ]
    }
   ],
   "source": [
    "for i in range(tag_count):\n",
    "    print(i,\"th parameter info\\n\")\n",
    "    print(\"name: \",names[i])\n",
    "    print(\"types: \",types[i])\n",
    "    print(\"strings: \",strings[i])\n",
    "    print(\"defaults: \",defaults[i])\n",
    "    print(\"nones: \",nones[i])\n",
    "    print(\"\\n\")"
   ]
  },
  {
   "cell_type": "code",
   "execution_count": 264,
   "metadata": {},
   "outputs": [
    {
     "data": {
      "text/plain": [
       "'int'"
      ]
     },
     "execution_count": 264,
     "metadata": {},
     "output_type": "execute_result"
    }
   ],
   "source": [
    "types[7][0]"
   ]
  },
  {
   "cell_type": "code",
   "execution_count": 294,
   "metadata": {},
   "outputs": [],
   "source": [
    "import xlwt\n",
    "from xlwt import Workbook\n",
    "from xlrd import open_workbook\n",
    "from xlutils.copy import copy\n",
    "rb=open_workbook(\"sample.xls\")\n",
    "wb=copy(rb)\n",
    "sheet1=wb.add_sheet('logistic_regression1')\n",
    "sheet1.write(3,0,\"파라메터 번호\")\n",
    "sheet1.write(3,1,\"파라메터 이름\")\n",
    "sheet1.write(3,2,\"types\")\n",
    "sheet1.write(3,3,\"strings\")\n",
    "sheet1.write(3,4,\"default\")\n",
    "sheet1.write(3,5,\"none\")\n",
    "\n",
    "for i in range(tag_count):\n",
    "    sheet1.write(i+4,0,i)\n",
    "    sheet1.write(i+4,1,names[i])\n",
    "    sheet1.write(i+4,2,types[i])\n",
    "    sheet1.write(i+4,3,strings[i])\n",
    "    sheet1.write(i+4,4,defaults[i])\n",
    "    sheet1.write(i+4,5,nones[i])\n",
    "\n",
    "wb.save(\"sample.xls\")"
   ]
  },
  {
   "cell_type": "code",
   "execution_count": null,
   "metadata": {},
   "outputs": [],
   "source": []
  }
 ],
 "metadata": {
  "kernelspec": {
   "display_name": "Python 3",
   "language": "python",
   "name": "python3"
  },
  "language_info": {
   "codemirror_mode": {
    "name": "ipython",
    "version": 3
   },
   "file_extension": ".py",
   "mimetype": "text/x-python",
   "name": "python",
   "nbconvert_exporter": "python",
   "pygments_lexer": "ipython3",
   "version": "3.6.9"
  }
 },
 "nbformat": 4,
 "nbformat_minor": 4
}
