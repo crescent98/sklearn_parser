{
 "cells": [
  {
   "cell_type": "code",
   "execution_count": 9,
   "metadata": {},
   "outputs": [
    {
     "name": "stdout",
     "output_type": "stream",
     "text": [
      "sklearn.svm.LinearSVC.html?highlight=linear svc\n",
      "sklearn.linear_model.LogisticRegression.html\n",
      "sklearn.neural_network.MLPRegressor.html\n",
      "sklearn.tree.DecisionTreeRegressor.html?highlight=decision tree\n",
      "sklearn.svm.LinearSVR.html\n",
      "sklearn.linear_model.LinearRegression.html?highlight=linear regression\n",
      "sklearn.tree.DecisionTreeClassifier.html?highlight=decision tree\n",
      "sklearn.naive_bayes.CategoricalNB.html\n",
      "sklearn.ensemble.GradientBoostingClassifier.html\n",
      "sklearn.neural_network.MLPClassifier.html?highlight=mlp\n",
      "sklearn.svm.SVC.html\n"
     ]
    }
   ],
   "source": [
    "from bs4 import BeautifulSoup\n",
    "import sys\n",
    "import os\n",
    "\n",
    "if __name__==\"__main__\":\n",
    "    root_dir=\"/home/shmoon/algorithm_parameter_parser/html\"\n",
    "    for(root, dirs,files) in os.walk(root_dir):\n",
    "        if len(files) > 0:\n",
    "            for file_name in files:\n",
    "                print(file_name)"
   ]
  },
  {
   "cell_type": "code",
   "execution_count": 11,
   "metadata": {},
   "outputs": [],
   "source": [
    "temp_str='sam.hey.html'\n",
    "lst=temp_str.split(\".\")\n",
    "t=lst.index('html')"
   ]
  },
  {
   "cell_type": "code",
   "execution_count": 14,
   "metadata": {},
   "outputs": [
    {
     "data": {
      "text/plain": [
       "8"
      ]
     },
     "execution_count": 14,
     "metadata": {},
     "output_type": "execute_result"
    }
   ],
   "source": [
    "temp_str.find(\"html\")"
   ]
  }
 ],
 "metadata": {
  "kernelspec": {
   "display_name": "Python 3",
   "language": "python",
   "name": "python3"
  },
  "language_info": {
   "codemirror_mode": {
    "name": "ipython",
    "version": 3
   },
   "file_extension": ".py",
   "mimetype": "text/x-python",
   "name": "python",
   "nbconvert_exporter": "python",
   "pygments_lexer": "ipython3",
   "version": "3.6.9"
  }
 },
 "nbformat": 4,
 "nbformat_minor": 4
}
