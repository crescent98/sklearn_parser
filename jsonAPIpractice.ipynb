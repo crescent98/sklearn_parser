{
 "cells": [
  {
   "cell_type": "code",
   "execution_count": 60,
   "metadata": {
    "scrolled": true
   },
   "outputs": [
    {
     "name": "stdout",
     "output_type": "stream",
     "text": [
      "<class 'dict'>\n"
     ]
    }
   ],
   "source": [
    "import json\n",
    "\n",
    "data={}\n",
    "print(type(data))\n",
    "data['people']=[]\n",
    "data['people'].append({\n",
    "    'name': 'Scott',\n",
    "    'website': 'stackabuse.com',\n",
    "    'from':'Nebraska'\n",
    "})\n",
    "data['people'].append({\n",
    "    'name': 'Larry',\n",
    "    'website':'google.com',\n",
    "    'from':'Michigan'\n",
    "})\n",
    "data['people'].append({\n",
    "    'name':'Tim',\n",
    "    'website':'apple.com',\n",
    "    'from':'Alabama'\n",
    "})"
   ]
  },
  {
   "cell_type": "markdown",
   "metadata": {},
   "source": [
    "Json Format Practice"
   ]
  },
  {
   "cell_type": "code",
   "execution_count": 61,
   "metadata": {},
   "outputs": [],
   "source": [
    "with open('data.txt','w') as outfile:\n",
    "    json.dump(data,outfile)"
   ]
  },
  {
   "cell_type": "code",
   "execution_count": 62,
   "metadata": {},
   "outputs": [],
   "source": [
    "temp={}\n",
    "temp[\"types\"]=[]\n",
    "temp[\"strings\"]=[]\n",
    "temp[\"default\"]=[]\n",
    "temp[\"none\"]=[]\n",
    "temp[\"widget\"]=[]\n",
    "temp[\"range=\"]=[]\n",
    "temp[\"current_value\"]=[]"
   ]
  },
  {
   "cell_type": "code",
   "execution_count": 63,
   "metadata": {},
   "outputs": [],
   "source": [
    "temp[\"types\"].append(\"bool\")"
   ]
  },
  {
   "cell_type": "code",
   "execution_count": 64,
   "metadata": {
    "scrolled": false
   },
   "outputs": [
    {
     "data": {
      "text/plain": [
       "{'types': ['bool'],\n",
       " 'strings': [],\n",
       " 'default': [],\n",
       " 'none': [],\n",
       " 'widget': [],\n",
       " 'range=': [],\n",
       " 'current_value': []}"
      ]
     },
     "execution_count": 64,
     "metadata": {},
     "output_type": "execute_result"
    }
   ],
   "source": [
    "temp"
   ]
  },
  {
   "cell_type": "markdown",
   "metadata": {},
   "source": [
    "Bring XL file"
   ]
  },
  {
   "cell_type": "code",
   "execution_count": 92,
   "metadata": {},
   "outputs": [],
   "source": [
    "import xlrd\n",
    "import sys\n",
    "\n",
    "# get the xl file\n",
    "wb=xlrd.open_workbook(\"/home/shmoon/algorithm_parameter_parser/xls/algo_info.xls\")\n",
    "\n",
    "\n",
    "nrows=ws.nrows\n",
    "s_n=len(wb.sheet_names())"
   ]
  },
  {
   "cell_type": "code",
   "execution_count": 91,
   "metadata": {},
   "outputs": [
    {
     "name": "stdout",
     "output_type": "stream",
     "text": [
      "\n",
      "Algorithm Name\n",
      "LinearSVC\n",
      "\n",
      "{'penalty': {'types': ['string'], 'strings': ['‘l1’ ‘l2’'], 'default': ['’l2’'], 'none': ['False'], 'widget': [], 'range=': [], 'current_value': []}, 'loss': {'types': ['string'], 'strings': ['‘hinge’ ‘squared_hinge’'], 'default': ['’squared_hinge’'], 'none': ['False'], 'widget': [], 'range=': [], 'current_value': []}, 'dual': {'types': ['bool'], 'strings': [''], 'default': ['True'], 'none': ['False'], 'widget': [], 'range=': [], 'current_value': []}, 'tol': {'types': ['float'], 'strings': [''], 'default': ['1e-4'], 'none': ['False'], 'widget': [], 'range=': [], 'current_value': []}, 'C': {'types': ['float'], 'strings': [''], 'default': ['1.0'], 'none': ['False'], 'widget': [], 'range=': [], 'current_value': []}, 'multi_class': {'types': ['string'], 'strings': ['‘ovr’ ‘crammer_singer’'], 'default': ['’ovr’'], 'none': ['False'], 'widget': [], 'range=': [], 'current_value': []}, 'fit_intercept': {'types': ['bool'], 'strings': [''], 'default': ['True'], 'none': ['False'], 'widget': [], 'range=': [], 'current_value': []}, 'intercept_scaling': {'types': ['float'], 'strings': [''], 'default': ['1'], 'none': ['False'], 'widget': [], 'range=': [], 'current_value': []}, 'class_weight': {'types': ['dict', '‘balanced’'], 'strings': [''], 'default': ['None'], 'none': ['True'], 'widget': [], 'range=': [], 'current_value': []}, 'verbose': {'types': ['int'], 'strings': [''], 'default': ['0'], 'none': ['False'], 'widget': [], 'range=': [], 'current_value': []}, 'random_state': {'types': ['int', 'RandomStateinstance'], 'strings': [''], 'default': ['None'], 'none': ['True'], 'widget': [], 'range=': [], 'current_value': []}, 'max_iter': {'types': ['int'], 'strings': [''], 'default': ['1000'], 'none': ['False'], 'widget': [], 'range=': [], 'current_value': []}}\n",
      "\n",
      "Algorithm Name\n",
      "LogisticRegression\n",
      "\n",
      "{'penalty': {'types': ['string'], 'strings': ['‘l1’ ‘l2’ ‘elasticnet’ ‘none’'], 'default': ['’l2’'], 'none': ['False'], 'widget': [], 'range=': [], 'current_value': []}, 'dual': {'types': ['bool'], 'strings': [''], 'default': ['False'], 'none': ['False'], 'widget': [], 'range=': [], 'current_value': []}, 'tol': {'types': ['float'], 'strings': [''], 'default': ['1e-4'], 'none': ['False'], 'widget': [], 'range=': [], 'current_value': []}, 'C': {'types': ['float'], 'strings': [''], 'default': ['1.0'], 'none': ['False'], 'widget': [], 'range=': [], 'current_value': []}, 'fit_intercept': {'types': ['bool'], 'strings': [''], 'default': ['True'], 'none': ['False'], 'widget': [], 'range=': [], 'current_value': []}, 'intercept_scaling': {'types': ['float'], 'strings': [''], 'default': ['1'], 'none': ['False'], 'widget': [], 'range=': [], 'current_value': []}, 'class_weight': {'types': ['dict', '‘balanced’'], 'strings': [''], 'default': ['None'], 'none': ['True'], 'widget': [], 'range=': [], 'current_value': []}, 'random_state': {'types': ['int', 'RandomStateinstance'], 'strings': [''], 'default': ['None'], 'none': ['True'], 'widget': [], 'range=': [], 'current_value': []}, 'solver': {'types': ['string'], 'strings': ['‘newton-cg’ ‘lbfgs’ ‘liblinear’ ‘sag’ ‘saga’'], 'default': ['’lbfgs’'], 'none': ['False'], 'widget': [], 'range=': [], 'current_value': []}, 'max_iter': {'types': ['int'], 'strings': [''], 'default': ['100'], 'none': ['False'], 'widget': [], 'range=': [], 'current_value': []}, 'multi_class': {'types': ['string'], 'strings': ['‘auto’ ‘ovr’ ‘multinomial’'], 'default': ['’auto’'], 'none': ['False'], 'widget': [], 'range=': [], 'current_value': []}, 'verbose': {'types': ['int'], 'strings': [''], 'default': ['0'], 'none': ['False'], 'widget': [], 'range=': [], 'current_value': []}, 'warm_start': {'types': ['bool'], 'strings': [''], 'default': ['False'], 'none': ['False'], 'widget': [], 'range=': [], 'current_value': []}, 'n_jobs': {'types': ['int'], 'strings': [''], 'default': ['None'], 'none': ['True'], 'widget': [], 'range=': [], 'current_value': []}, 'l1_ratio': {'types': ['float'], 'strings': [''], 'default': ['None'], 'none': ['True'], 'widget': [], 'range=': [], 'current_value': []}}\n",
      "\n",
      "Algorithm Name\n",
      "MLPRegressor\n",
      "\n",
      "{'hidden_layer_sizes': {'types': ['tuple', 'length=n_layers-2'], 'strings': [''], 'default': ['(100,)'], 'none': ['False'], 'widget': [], 'range=': [], 'current_value': []}, 'activation': {'types': ['string'], 'strings': ['‘identity’ ‘logistic’ ‘tanh’ ‘relu’'], 'default': ['’relu’'], 'none': ['False'], 'widget': [], 'range=': [], 'current_value': []}, 'solver': {'types': ['string'], 'strings': ['‘lbfgs’ ‘sgd’ ‘adam’'], 'default': ['’adam’'], 'none': ['False'], 'widget': [], 'range=': [], 'current_value': []}, 'alpha': {'types': ['float'], 'strings': [''], 'default': ['0.0001'], 'none': ['False'], 'widget': [], 'range=': [], 'current_value': []}, 'batch_size': {'types': ['int'], 'strings': [''], 'default': ['’auto’'], 'none': ['False'], 'widget': [], 'range=': [], 'current_value': []}, 'learning_rate': {'types': ['string'], 'strings': ['‘constant’ ‘invscaling’ ‘adaptive’'], 'default': ['’constant’'], 'none': ['False'], 'widget': [], 'range=': [], 'current_value': []}, 'learning_rate_init': {'types': ['double'], 'strings': [''], 'default': ['0.001'], 'none': ['False'], 'widget': [], 'range=': [], 'current_value': []}, 'power_t': {'types': ['double'], 'strings': [''], 'default': ['0.5'], 'none': ['False'], 'widget': [], 'range=': [], 'current_value': []}, 'max_iter': {'types': ['int'], 'strings': [''], 'default': ['200'], 'none': ['False'], 'widget': [], 'range=': [], 'current_value': []}, 'shuffle': {'types': ['bool'], 'strings': [''], 'default': ['True'], 'none': ['False'], 'widget': [], 'range=': [], 'current_value': []}, 'random_state': {'types': ['int', 'RandomStateinstance'], 'strings': [''], 'default': ['None'], 'none': ['True'], 'widget': [], 'range=': [], 'current_value': []}, 'tol': {'types': ['float'], 'strings': [''], 'default': ['1e-4'], 'none': ['False'], 'widget': [], 'range=': [], 'current_value': []}, 'verbose': {'types': ['bool'], 'strings': [''], 'default': ['False'], 'none': ['False'], 'widget': [], 'range=': [], 'current_value': []}, 'warm_start': {'types': ['bool'], 'strings': [''], 'default': ['False'], 'none': ['False'], 'widget': [], 'range=': [], 'current_value': []}, 'momentum': {'types': ['float'], 'strings': [''], 'default': ['0.9'], 'none': ['False'], 'widget': [], 'range=': [], 'current_value': []}, 'nesterovs_momentum': {'types': ['boolean'], 'strings': [''], 'default': ['True'], 'none': ['False'], 'widget': [], 'range=': [], 'current_value': []}, 'early_stopping': {'types': ['bool'], 'strings': [''], 'default': ['False'], 'none': ['False'], 'widget': [], 'range=': [], 'current_value': []}, 'validation_fraction': {'types': ['float'], 'strings': [''], 'default': ['0.1'], 'none': ['False'], 'widget': [], 'range=': [], 'current_value': []}, 'beta_1': {'types': ['float'], 'strings': [''], 'default': ['0.9'], 'none': ['False'], 'widget': [], 'range=': [], 'current_value': []}, 'beta_2': {'types': ['float'], 'strings': [''], 'default': ['0.999'], 'none': ['False'], 'widget': [], 'range=': [], 'current_value': []}, 'epsilon': {'types': ['float'], 'strings': [''], 'default': ['1e-8'], 'none': ['False'], 'widget': [], 'range=': [], 'current_value': []}, 'n_iter_no_change': {'types': ['int'], 'strings': [''], 'default': ['10'], 'none': ['False'], 'widget': [], 'range=': [], 'current_value': []}, 'max_fun': {'types': ['int'], 'strings': [''], 'default': ['15000'], 'none': ['False'], 'widget': [], 'range=': [], 'current_value': []}}\n",
      "\n",
      "Algorithm Name\n",
      "DecisionTreeRegressor\n",
      "\n",
      "{'criterion': {'types': ['string'], 'strings': ['“mse” “friedman_mse” “mae”'], 'default': ['”mse”'], 'none': ['False'], 'widget': [], 'range=': [], 'current_value': []}, 'splitter': {'types': ['string'], 'strings': ['“best” “random”'], 'default': ['”best”'], 'none': ['False'], 'widget': [], 'range=': [], 'current_value': []}, 'max_depth': {'types': ['int'], 'strings': [''], 'default': ['None'], 'none': ['True'], 'widget': [], 'range=': [], 'current_value': []}, 'min_samples_split': {'types': ['int', 'float'], 'strings': [''], 'default': ['2'], 'none': ['False'], 'widget': [], 'range=': [], 'current_value': []}, 'min_samples_leaf': {'types': ['int', 'float'], 'strings': [''], 'default': ['1'], 'none': ['False'], 'widget': [], 'range=': [], 'current_value': []}, 'min_weight_fraction_leaf': {'types': ['float'], 'strings': [''], 'default': ['0.0'], 'none': ['False'], 'widget': [], 'range=': [], 'current_value': []}, 'max_features': {'types': ['int', 'float', 'string'], 'strings': ['“auto” “sqrt” “log2”'], 'default': ['None'], 'none': ['True'], 'widget': [], 'range=': [], 'current_value': []}, 'random_state': {'types': ['int', 'RandomStateinstance'], 'strings': [''], 'default': ['None'], 'none': ['True'], 'widget': [], 'range=': [], 'current_value': []}, 'max_leaf_nodes': {'types': ['int'], 'strings': [''], 'default': ['None'], 'none': ['True'], 'widget': [], 'range=': [], 'current_value': []}, 'min_impurity_decrease': {'types': ['float'], 'strings': [''], 'default': ['0.0'], 'none': ['False'], 'widget': [], 'range=': [], 'current_value': []}, 'min_impurity_split': {'types': ['float', '('], 'strings': [''], 'default': ['0)'], 'none': ['False'], 'widget': [], 'range=': [], 'current_value': []}, 'presort': {'types': ['deprecated'], 'strings': [''], 'default': ['’deprecated’'], 'none': ['False'], 'widget': [], 'range=': [], 'current_value': []}, 'ccp_alpha': {'types': ['non-negativefloat'], 'strings': [''], 'default': ['0.0'], 'none': ['False'], 'widget': [], 'range=': [], 'current_value': []}}\n",
      "\n",
      "Algorithm Name\n",
      "LinearSVR\n",
      "\n",
      "{'epsilon': {'types': ['float'], 'strings': [''], 'default': ['0.0'], 'none': ['False'], 'widget': [], 'range=': [], 'current_value': []}, 'tol': {'types': ['float'], 'strings': [''], 'default': ['1e-4'], 'none': ['False'], 'widget': [], 'range=': [], 'current_value': []}, 'C': {'types': ['float'], 'strings': [''], 'default': ['1.0'], 'none': ['False'], 'widget': [], 'range=': [], 'current_value': []}, 'loss': {'types': ['string'], 'strings': ['‘epsilon_insensitive’ ‘squared_epsilon_insensitive’'], 'default': ['’epsilon_insensitive’'], 'none': ['False'], 'widget': [], 'range=': [], 'current_value': []}, 'fit_intercept': {'types': ['bool'], 'strings': [''], 'default': ['True'], 'none': ['False'], 'widget': [], 'range=': [], 'current_value': []}, 'intercept_scaling': {'types': ['float'], 'strings': [''], 'default': ['1.'], 'none': ['False'], 'widget': [], 'range=': [], 'current_value': []}, 'dual': {'types': ['bool'], 'strings': [''], 'default': ['True'], 'none': ['False'], 'widget': [], 'range=': [], 'current_value': []}, 'verbose': {'types': ['int'], 'strings': [''], 'default': ['0'], 'none': ['False'], 'widget': [], 'range=': [], 'current_value': []}, 'random_state': {'types': ['int', 'RandomStateinstance'], 'strings': [''], 'default': ['None'], 'none': ['True'], 'widget': [], 'range=': [], 'current_value': []}, 'max_iter': {'types': ['int'], 'strings': [''], 'default': ['1000'], 'none': ['False'], 'widget': [], 'range=': [], 'current_value': []}}\n",
      "\n",
      "Algorithm Name\n",
      "LinearRegression\n",
      "\n",
      "{'fit_intercept': {'types': ['bool'], 'strings': [''], 'default': ['True'], 'none': ['False'], 'widget': [], 'range=': [], 'current_value': []}, 'normalize': {'types': ['bool'], 'strings': [''], 'default': ['False'], 'none': ['False'], 'widget': [], 'range=': [], 'current_value': []}, 'copy_X': {'types': ['bool'], 'strings': [''], 'default': ['True'], 'none': ['False'], 'widget': [], 'range=': [], 'current_value': []}, 'n_jobs': {'types': ['int'], 'strings': [''], 'default': ['None'], 'none': ['True'], 'widget': [], 'range=': [], 'current_value': []}}\n",
      "\n",
      "Algorithm Name\n",
      "DecisionTreeClassifier\n",
      "\n",
      "{'criterion': {'types': ['string'], 'strings': ['“gini” “entropy”'], 'default': ['”gini”'], 'none': ['False'], 'widget': [], 'range=': [], 'current_value': []}, 'splitter': {'types': ['string'], 'strings': ['“best” “random”'], 'default': ['”best”'], 'none': ['False'], 'widget': [], 'range=': [], 'current_value': []}, 'max_depth': {'types': ['int'], 'strings': [''], 'default': ['None'], 'none': ['True'], 'widget': [], 'range=': [], 'current_value': []}, 'min_samples_split': {'types': ['int', 'float'], 'strings': [''], 'default': ['2'], 'none': ['False'], 'widget': [], 'range=': [], 'current_value': []}, 'min_samples_leaf': {'types': ['int', 'float'], 'strings': [''], 'default': ['1'], 'none': ['False'], 'widget': [], 'range=': [], 'current_value': []}, 'min_weight_fraction_leaf': {'types': ['float'], 'strings': [''], 'default': ['0.0'], 'none': ['False'], 'widget': [], 'range=': [], 'current_value': []}, 'max_features': {'types': ['int', 'float', 'string'], 'strings': ['“auto” “sqrt” “log2”'], 'default': ['None'], 'none': ['True'], 'widget': [], 'range=': [], 'current_value': []}, 'random_state': {'types': ['int', 'RandomStateinstance'], 'strings': [''], 'default': ['None'], 'none': ['True'], 'widget': [], 'range=': [], 'current_value': []}, 'max_leaf_nodes': {'types': ['int'], 'strings': [''], 'default': ['None'], 'none': ['True'], 'widget': [], 'range=': [], 'current_value': []}, 'min_impurity_decrease': {'types': ['float'], 'strings': [''], 'default': ['0.0'], 'none': ['False'], 'widget': [], 'range=': [], 'current_value': []}, 'min_impurity_split': {'types': ['float'], 'strings': [''], 'default': ['0'], 'none': ['False'], 'widget': [], 'range=': [], 'current_value': []}, 'class_weight': {'types': ['dict', 'listofdict', '“balanced”'], 'strings': [''], 'default': ['None'], 'none': ['True'], 'widget': [], 'range=': [], 'current_value': []}, 'presort': {'types': ['deprecated'], 'strings': [''], 'default': ['’deprecated’'], 'none': ['False'], 'widget': [], 'range=': [], 'current_value': []}, 'ccp_alpha': {'types': ['non-negativefloat'], 'strings': [''], 'default': ['0.0'], 'none': ['False'], 'widget': [], 'range=': [], 'current_value': []}}\n",
      "\n",
      "Algorithm Name\n",
      "CategoricalNB\n",
      "\n",
      "{'alpha': {'types': ['float'], 'strings': [''], 'default': ['1.0'], 'none': ['False'], 'widget': [], 'range=': [], 'current_value': []}, 'fit_prior': {'types': ['bool'], 'strings': [''], 'default': ['True'], 'none': ['False'], 'widget': [], 'range=': [], 'current_value': []}, 'class_prior': {'types': ['array-likeofshape(n_classes', ')'], 'strings': [''], 'default': ['None'], 'none': ['True'], 'widget': [], 'range=': [], 'current_value': []}}\n",
      "\n",
      "Algorithm Name\n",
      "GradientBoostingClassifier\n",
      "\n",
      "{'loss': {'types': ['string'], 'strings': ['‘deviance’ ‘exponential’'], 'default': ['’deviance’'], 'none': ['False'], 'widget': [], 'range=': [], 'current_value': []}, 'learning_rate': {'types': ['float'], 'strings': [''], 'default': ['0.1'], 'none': ['False'], 'widget': [], 'range=': [], 'current_value': []}, 'n_estimators': {'types': ['int'], 'strings': [''], 'default': ['100'], 'none': ['False'], 'widget': [], 'range=': [], 'current_value': []}, 'subsample': {'types': ['float'], 'strings': [''], 'default': ['1.0'], 'none': ['False'], 'widget': [], 'range=': [], 'current_value': []}, 'criterion': {'types': ['string'], 'strings': ['‘friedman_mse’ ‘mse’ ‘mae’'], 'default': ['’friedman_mse’'], 'none': ['False'], 'widget': [], 'range=': [], 'current_value': []}, 'min_samples_split': {'types': ['int', 'float'], 'strings': [''], 'default': ['2'], 'none': ['False'], 'widget': [], 'range=': [], 'current_value': []}, 'min_samples_leaf': {'types': ['int', 'float'], 'strings': [''], 'default': ['1'], 'none': ['False'], 'widget': [], 'range=': [], 'current_value': []}, 'min_weight_fraction_leaf': {'types': ['float'], 'strings': [''], 'default': ['0.0'], 'none': ['False'], 'widget': [], 'range=': [], 'current_value': []}, 'max_depth': {'types': ['int'], 'strings': [''], 'default': ['3'], 'none': ['False'], 'widget': [], 'range=': [], 'current_value': []}, 'min_impurity_decrease': {'types': ['float'], 'strings': [''], 'default': ['0.0'], 'none': ['False'], 'widget': [], 'range=': [], 'current_value': []}, 'min_impurity_split': {'types': ['float'], 'strings': [''], 'default': ['None'], 'none': ['True'], 'widget': [], 'range=': [], 'current_value': []}, 'init': {'types': ['estimat', '‘zero’'], 'strings': [''], 'default': ['None'], 'none': ['True'], 'widget': [], 'range=': [], 'current_value': []}, 'random_state': {'types': ['int', 'RandomState'], 'strings': [''], 'default': ['None'], 'none': ['True'], 'widget': [], 'range=': [], 'current_value': []}, 'max_features': {'types': ['int', 'float', 'string'], 'strings': ['‘auto’ ‘sqrt’ ‘log2’'], 'default': ['None'], 'none': ['True'], 'widget': [], 'range=': [], 'current_value': []}, 'verbose': {'types': ['int'], 'strings': [''], 'default': ['0'], 'none': ['False'], 'widget': [], 'range=': [], 'current_value': []}, 'max_leaf_nodes': {'types': ['int'], 'strings': [''], 'default': ['None'], 'none': ['True'], 'widget': [], 'range=': [], 'current_value': []}, 'warm_start': {'types': ['bool'], 'strings': [''], 'default': ['False'], 'none': ['False'], 'widget': [], 'range=': [], 'current_value': []}, 'presort': {'types': ['deprecated'], 'strings': [''], 'default': ['’deprecated’'], 'none': ['False'], 'widget': [], 'range=': [], 'current_value': []}, 'validation_fraction': {'types': ['float'], 'strings': [''], 'default': ['0.1'], 'none': ['False'], 'widget': [], 'range=': [], 'current_value': []}, 'n_iter_no_change': {'types': ['int'], 'strings': [''], 'default': ['None'], 'none': ['True'], 'widget': [], 'range=': [], 'current_value': []}, 'tol': {'types': ['float'], 'strings': [''], 'default': ['1e-4'], 'none': ['False'], 'widget': [], 'range=': [], 'current_value': []}, 'ccp_alpha': {'types': ['non-negativefloat'], 'strings': [''], 'default': ['0.0'], 'none': ['False'], 'widget': [], 'range=': [], 'current_value': []}}\n",
      "\n",
      "Algorithm Name\n",
      "MLPClassifier\n",
      "\n",
      "{'hidden_layer_sizes': {'types': ['tuple', 'length=n_layers-2'], 'strings': [''], 'default': ['(100,)'], 'none': ['False'], 'widget': [], 'range=': [], 'current_value': []}, 'activation': {'types': ['string'], 'strings': ['‘identity’ ‘logistic’ ‘tanh’ ‘relu’'], 'default': ['’relu’'], 'none': ['False'], 'widget': [], 'range=': [], 'current_value': []}, 'solver': {'types': ['string'], 'strings': ['‘lbfgs’ ‘sgd’ ‘adam’'], 'default': ['’adam’'], 'none': ['False'], 'widget': [], 'range=': [], 'current_value': []}, 'alpha': {'types': ['float'], 'strings': [''], 'default': ['0.0001'], 'none': ['False'], 'widget': [], 'range=': [], 'current_value': []}, 'batch_size': {'types': ['int'], 'strings': [''], 'default': ['’auto’'], 'none': ['False'], 'widget': [], 'range=': [], 'current_value': []}, 'learning_rate': {'types': ['string'], 'strings': ['‘constant’ ‘invscaling’ ‘adaptive’'], 'default': ['’constant’'], 'none': ['False'], 'widget': [], 'range=': [], 'current_value': []}, 'learning_rate_init': {'types': ['double'], 'strings': [''], 'default': ['0.001'], 'none': ['False'], 'widget': [], 'range=': [], 'current_value': []}, 'power_t': {'types': ['double'], 'strings': [''], 'default': ['0.5'], 'none': ['False'], 'widget': [], 'range=': [], 'current_value': []}, 'max_iter': {'types': ['int'], 'strings': [''], 'default': ['200'], 'none': ['False'], 'widget': [], 'range=': [], 'current_value': []}, 'shuffle': {'types': ['bool'], 'strings': [''], 'default': ['True'], 'none': ['False'], 'widget': [], 'range=': [], 'current_value': []}, 'random_state': {'types': ['int', 'RandomStateinstance'], 'strings': [''], 'default': ['None'], 'none': ['True'], 'widget': [], 'range=': [], 'current_value': []}, 'tol': {'types': ['float'], 'strings': [''], 'default': ['1e-4'], 'none': ['False'], 'widget': [], 'range=': [], 'current_value': []}, 'verbose': {'types': ['bool'], 'strings': [''], 'default': ['False'], 'none': ['False'], 'widget': [], 'range=': [], 'current_value': []}, 'warm_start': {'types': ['bool'], 'strings': [''], 'default': ['False'], 'none': ['False'], 'widget': [], 'range=': [], 'current_value': []}, 'momentum': {'types': ['float'], 'strings': [''], 'default': ['0.9'], 'none': ['False'], 'widget': [], 'range=': [], 'current_value': []}, 'nesterovs_momentum': {'types': ['boolean'], 'strings': [''], 'default': ['True'], 'none': ['False'], 'widget': [], 'range=': [], 'current_value': []}, 'early_stopping': {'types': ['bool'], 'strings': [''], 'default': ['False'], 'none': ['False'], 'widget': [], 'range=': [], 'current_value': []}, 'validation_fraction': {'types': ['float'], 'strings': [''], 'default': ['0.1'], 'none': ['False'], 'widget': [], 'range=': [], 'current_value': []}, 'beta_1': {'types': ['float'], 'strings': [''], 'default': ['0.9'], 'none': ['False'], 'widget': [], 'range=': [], 'current_value': []}, 'beta_2': {'types': ['float'], 'strings': [''], 'default': ['0.999'], 'none': ['False'], 'widget': [], 'range=': [], 'current_value': []}, 'epsilon': {'types': ['float'], 'strings': [''], 'default': ['1e-8'], 'none': ['False'], 'widget': [], 'range=': [], 'current_value': []}, 'n_iter_no_change': {'types': ['int'], 'strings': [''], 'default': ['10'], 'none': ['False'], 'widget': [], 'range=': [], 'current_value': []}, 'max_fun': {'types': ['int'], 'strings': [''], 'default': ['15000'], 'none': ['False'], 'widget': [], 'range=': [], 'current_value': []}}\n",
      "\n",
      "Algorithm Name\n",
      "SVC\n",
      "\n",
      "{'C': {'types': ['float'], 'strings': [''], 'default': ['1.0'], 'none': ['False'], 'widget': [], 'range=': [], 'current_value': []}, 'kernel': {'types': ['string'], 'strings': ['‘linear’ ‘poly’ ‘rbf’ ‘sigmoid’ ‘precomputed’'], 'default': ['’rbf’'], 'none': ['False'], 'widget': [], 'range=': [], 'current_value': []}, 'degree': {'types': ['int'], 'strings': [''], 'default': ['3'], 'none': ['False'], 'widget': [], 'range=': [], 'current_value': []}, 'gamma': {'types': ['float', 'string'], 'strings': ['‘scale’ ‘auto’'], 'default': ['’scale’'], 'none': ['False'], 'widget': [], 'range=': [], 'current_value': []}, 'coef0': {'types': ['float'], 'strings': [''], 'default': ['0.0'], 'none': ['False'], 'widget': [], 'range=': [], 'current_value': []}, 'shrinking': {'types': ['bool'], 'strings': [''], 'default': ['True'], 'none': ['False'], 'widget': [], 'range=': [], 'current_value': []}, 'probability': {'types': ['bool'], 'strings': [''], 'default': ['False'], 'none': ['False'], 'widget': [], 'range=': [], 'current_value': []}, 'tol': {'types': ['float'], 'strings': [''], 'default': ['1e-3'], 'none': ['False'], 'widget': [], 'range=': [], 'current_value': []}, 'cache_size': {'types': ['float'], 'strings': [''], 'default': ['200'], 'none': ['False'], 'widget': [], 'range=': [], 'current_value': []}, 'class_weight': {'types': ['dict', '‘balanced’'], 'strings': [''], 'default': ['None'], 'none': ['True'], 'widget': [], 'range=': [], 'current_value': []}, 'verbose': {'types': ['bool'], 'strings': [''], 'default': ['False'], 'none': ['False'], 'widget': [], 'range=': [], 'current_value': []}, 'max_iter': {'types': ['int'], 'strings': [''], 'default': ['-1'], 'none': ['False'], 'widget': [], 'range=': [], 'current_value': []}, 'decision_function_shape': {'types': ['string'], 'strings': ['‘ovo’ ‘ovr’'], 'default': ['’ovr’'], 'none': ['False'], 'widget': [], 'range=': [], 'current_value': []}, 'break_ties': {'types': ['bool'], 'strings': [''], 'default': ['False'], 'none': ['False'], 'widget': [], 'range=': [], 'current_value': []}, 'random_state': {'types': ['int', 'RandomStateinstance'], 'strings': [''], 'default': ['None'], 'none': ['True'], 'widget': [], 'range=': [], 'current_value': []}}\n"
     ]
    }
   ],
   "source": [
    "\n",
    "for j in range(0,s_n):  \n",
    "    param={}\n",
    "    ws=wb.sheet_by_index(j)\n",
    "    algo_name=wb.sheet_names()[j]\n",
    "    for i in range(4,ws.nrows):\n",
    "        t=ws.row_values(i)[1]\n",
    "        param[t]={}\n",
    "       # print(t)\n",
    "    \n",
    "        r_v=ws.row_values(i)\n",
    "        \n",
    "        #param[t]\n",
    "        temp={}\n",
    "        temp[\"types\"]=type_parse(r_v[2])\n",
    "        temp[\"strings\"]=[]\n",
    "        temp[\"default\"]=[]\n",
    "        temp[\"none\"]=[]\n",
    "        temp[\"widget\"]=[]\n",
    "        temp[\"range=\"]=[]\n",
    "        temp[\"current_value\"]=[]\n",
    "        \n",
    "        temp[\"strings\"].append(r_v[3])\n",
    "        temp[\"default\"].append(r_v[4])\n",
    "        temp[\"none\"].append(r_v[5])\n",
    "\n",
    "       #print(temp)\n",
    "        param[t]=temp\n",
    "    print(\"\\nAlgorithm Name\\n\"+algo_name+\"\\n\")  \n",
    "    print(param)\n",
    "    with open('jsonFiles/'+algo_name+'.json','w') as outfile:\n",
    "        json.dump(param,outfile)"
   ]
  },
  {
   "cell_type": "code",
   "execution_count": 57,
   "metadata": {},
   "outputs": [
    {
     "data": {
      "text/plain": [
       "str"
      ]
     },
     "execution_count": 57,
     "metadata": {},
     "output_type": "execute_result"
    }
   ],
   "source": [
    "type(r_v[2])"
   ]
  },
  {
   "cell_type": "code",
   "execution_count": 43,
   "metadata": {},
   "outputs": [
    {
     "data": {
      "text/plain": [
       "[0.0, 'fit_intercept', 'bool, ', '', 'True', 'False', '', '']"
      ]
     },
     "execution_count": 43,
     "metadata": {},
     "output_type": "execute_result"
    }
   ],
   "source": [
    "ws.row_values(4)"
   ]
  },
  {
   "cell_type": "code",
   "execution_count": 85,
   "metadata": {},
   "outputs": [],
   "source": [
    "def type_parse(type_str):\n",
    "    t_list=type_str.split(',')\n",
    "    t_list=[v.replace(\" \",\"\") for v in t_list if v.replace(\" \",\"\")]\n",
    "    return t_list\n",
    "\n",
    "def string_parse(str_str):\n",
    "    # , 를 통해서 분류\n",
    "    t_list=str_str.split(',')\n",
    "    t_list=[v.replace(\" \",\"\") for v in t_list if v.replace(\" \",\"\")]\n",
    "    # 이후에 ' ' 제거\n",
    "    t_list=[v.replace(\"\\u2019\",\"\") for v in t_list]\n",
    "    t_list=[v.replace(\"\\u2018\",\"\") for v in t_list]\n",
    "    return t_list"
   ]
  },
  {
   "cell_type": "code",
   "execution_count": 83,
   "metadata": {},
   "outputs": [],
   "source": [
    "str_str='‘deviance’ ‘exponential’'"
   ]
  },
  {
   "cell_type": "code",
   "execution_count": 88,
   "metadata": {},
   "outputs": [
    {
     "data": {
      "text/plain": [
       "'devianceexponential'"
      ]
     },
     "execution_count": 88,
     "metadata": {},
     "output_type": "execute_result"
    }
   ],
   "source": [
    "string_parse(str_str)[0]"
   ]
  }
 ],
 "metadata": {
  "kernelspec": {
   "display_name": "Python 3",
   "language": "python",
   "name": "python3"
  },
  "language_info": {
   "codemirror_mode": {
    "name": "ipython",
    "version": 3
   },
   "file_extension": ".py",
   "mimetype": "text/x-python",
   "name": "python",
   "nbconvert_exporter": "python",
   "pygments_lexer": "ipython3",
   "version": "3.6.9"
  }
 },
 "nbformat": 4,
 "nbformat_minor": 4
}
